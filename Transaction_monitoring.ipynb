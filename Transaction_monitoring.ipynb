{
 "cells": [
  {
   "cell_type": "markdown",
   "id": "a82cd59e-70bf-47c9-a06c-e10debf95b40",
   "metadata": {},
   "source": [
    "# Transaction Monitoring"
   ]
  },
  {
   "cell_type": "code",
   "execution_count": 1,
   "id": "794f2589-b4d3-4c9d-abbb-ea1835c21fbf",
   "metadata": {},
   "outputs": [],
   "source": [
    "%load_ext autoreload\n",
    "%autoreload 2"
   ]
  },
  {
   "cell_type": "code",
   "execution_count": 2,
   "id": "4d57bdef-fcc6-4c50-b291-7a6cff57e02d",
   "metadata": {
    "editable": true,
    "slideshow": {
     "slide_type": ""
    },
    "tags": []
   },
   "outputs": [],
   "source": [
    "import numpy as np\n",
    "from transaction import TransactionData"
   ]
  },
  {
   "cell_type": "markdown",
   "id": "346fcbb1-7b50-4fd2-abf3-bb2e1d1c8a5e",
   "metadata": {
    "editable": true,
    "slideshow": {
     "slide_type": ""
    },
    "tags": []
   },
   "source": [
    "## 1. File processing"
   ]
  },
  {
   "cell_type": "code",
   "execution_count": 3,
   "id": "ef377b13-0265-462c-8903-80a47903708b",
   "metadata": {},
   "outputs": [
    {
     "name": "stdout",
     "output_type": "stream",
     "text": [
      "DransactionData object was created successfully.\n"
     ]
    }
   ],
   "source": [
    "df = TransactionData.parse_csv(\"./data/sample_orders_2.csv\")"
   ]
  },
  {
   "cell_type": "markdown",
   "id": "e62d7a84-4692-41d7-9f40-ae46d8e27260",
   "metadata": {},
   "source": [
    "## 2. Basic analysis"
   ]
  },
  {
   "cell_type": "markdown",
   "id": "d6b11393-d446-4070-a730-e191176a07f3",
   "metadata": {},
   "source": [
    "### 2.1. Total number of orders"
   ]
  },
  {
   "cell_type": "code",
   "execution_count": 4,
   "id": "a510a885-d792-4535-ae76-10d996a72200",
   "metadata": {},
   "outputs": [
    {
     "name": "stdout",
     "output_type": "stream",
     "text": [
      "Number of orders: 1000\n"
     ]
    }
   ],
   "source": [
    "print(f'Number of orders: {len(df)}')"
   ]
  },
  {
   "cell_type": "markdown",
   "id": "468348ee-0346-4c1a-bd7b-4e93d1e3202a",
   "metadata": {},
   "source": [
    "### 2.2. Number of unique clients"
   ]
  },
  {
   "cell_type": "code",
   "execution_count": 5,
   "id": "917e6a66-c9fe-4340-ba5c-1b8e7cae6522",
   "metadata": {},
   "outputs": [
    {
     "name": "stdout",
     "output_type": "stream",
     "text": [
      "Number of unique users: 100\n"
     ]
    }
   ],
   "source": [
    "unq = df['user_id'].nunique()\n",
    "print(f\"Number of unique users: {unq}\")"
   ]
  },
  {
   "cell_type": "markdown",
   "id": "69a888d0-708a-45c0-be30-1b4fbaa2100b",
   "metadata": {},
   "source": [
    "### 2.3. Average order amount"
   ]
  },
  {
   "cell_type": "code",
   "execution_count": 6,
   "id": "6f542220-9dc9-4b4e-8f1e-ed8ff5e2c3c3",
   "metadata": {},
   "outputs": [
    {
     "name": "stdout",
     "output_type": "stream",
     "text": [
      "Average order amount: 3078.8\n"
     ]
    }
   ],
   "source": [
    "df['order_amount'] = df['quantity']*df['unit_price']\n",
    "avg_order_amount = df['order_amount'].mean()\n",
    "print(f\"Average order amount: {avg_order_amount.round(2)}\")"
   ]
  },
  {
   "cell_type": "markdown",
   "id": "f008a8e7-a028-4858-8f7a-6186a638447a",
   "metadata": {},
   "source": [
    "### 2.4. Average number of orders per day"
   ]
  },
  {
   "cell_type": "code",
   "execution_count": 7,
   "id": "2fe563db-c6b4-43c5-8fd9-22d176c87af1",
   "metadata": {},
   "outputs": [
    {
     "data": {
      "text/html": [
       "<div>\n",
       "<style scoped>\n",
       "    .dataframe tbody tr th:only-of-type {\n",
       "        vertical-align: middle;\n",
       "    }\n",
       "\n",
       "    .dataframe tbody tr th {\n",
       "        vertical-align: top;\n",
       "    }\n",
       "\n",
       "    .dataframe thead th {\n",
       "        text-align: right;\n",
       "    }\n",
       "</style>\n",
       "<table border=\"1\" class=\"dataframe\">\n",
       "  <thead>\n",
       "    <tr style=\"text-align: right;\">\n",
       "      <th></th>\n",
       "      <th>date</th>\n",
       "      <th>number_of_orders</th>\n",
       "    </tr>\n",
       "  </thead>\n",
       "  <tbody>\n",
       "    <tr>\n",
       "      <th>0</th>\n",
       "      <td>2023-01-02</td>\n",
       "      <td>1</td>\n",
       "    </tr>\n",
       "    <tr>\n",
       "      <th>1</th>\n",
       "      <td>2023-01-03</td>\n",
       "      <td>3</td>\n",
       "    </tr>\n",
       "    <tr>\n",
       "      <th>2</th>\n",
       "      <td>2023-01-04</td>\n",
       "      <td>1</td>\n",
       "    </tr>\n",
       "    <tr>\n",
       "      <th>3</th>\n",
       "      <td>2023-01-05</td>\n",
       "      <td>5</td>\n",
       "    </tr>\n",
       "    <tr>\n",
       "      <th>4</th>\n",
       "      <td>2023-01-06</td>\n",
       "      <td>3</td>\n",
       "    </tr>\n",
       "    <tr>\n",
       "      <th>...</th>\n",
       "      <td>...</td>\n",
       "      <td>...</td>\n",
       "    </tr>\n",
       "    <tr>\n",
       "      <th>329</th>\n",
       "      <td>2023-12-28</td>\n",
       "      <td>3</td>\n",
       "    </tr>\n",
       "    <tr>\n",
       "      <th>330</th>\n",
       "      <td>2023-12-29</td>\n",
       "      <td>4</td>\n",
       "    </tr>\n",
       "    <tr>\n",
       "      <th>331</th>\n",
       "      <td>2023-12-30</td>\n",
       "      <td>6</td>\n",
       "    </tr>\n",
       "    <tr>\n",
       "      <th>332</th>\n",
       "      <td>2023-12-31</td>\n",
       "      <td>4</td>\n",
       "    </tr>\n",
       "    <tr>\n",
       "      <th>333</th>\n",
       "      <td>2024-03-20</td>\n",
       "      <td>1</td>\n",
       "    </tr>\n",
       "  </tbody>\n",
       "</table>\n",
       "<p>334 rows × 2 columns</p>\n",
       "</div>"
      ],
      "text/plain": [
       "           date  number_of_orders\n",
       "0    2023-01-02                 1\n",
       "1    2023-01-03                 3\n",
       "2    2023-01-04                 1\n",
       "3    2023-01-05                 5\n",
       "4    2023-01-06                 3\n",
       "..          ...               ...\n",
       "329  2023-12-28                 3\n",
       "330  2023-12-29                 4\n",
       "331  2023-12-30                 6\n",
       "332  2023-12-31                 4\n",
       "333  2024-03-20                 1\n",
       "\n",
       "[334 rows x 2 columns]"
      ]
     },
     "execution_count": 7,
     "metadata": {},
     "output_type": "execute_result"
    }
   ],
   "source": [
    "df['date'] = df['created_at'].dt.date\n",
    "tr_per_day = df.groupby(df['date']).size().reset_index(name='number_of_orders')\n",
    "tr_per_day"
   ]
  },
  {
   "cell_type": "code",
   "execution_count": 8,
   "id": "4c659127-4e12-4068-82ed-ab38b88a642e",
   "metadata": {},
   "outputs": [
    {
     "data": {
      "text/plain": [
       "{'Average number of orders per day': 2.9940119760479043,\n",
       " 'Rounded up to integer': 3,\n",
       " 'Rounded down to integer': 2,\n",
       " 'Rounded up to 3rd decimal': 2.995,\n",
       " 'Rounded down to 3rd decimal': 2.994}"
      ]
     },
     "execution_count": 8,
     "metadata": {},
     "output_type": "execute_result"
    }
   ],
   "source": [
    "avg_tr_per_day = tr_per_day['number_of_orders'].mean()\n",
    "avg_dict = {'Average number of orders per day': avg_tr_per_day, 'Rounded up to integer': np.ceil(avg_tr_per_day).astype(int), 'Rounded down to integer': np.floor(avg_tr_per_day).astype(int), 'Rounded up to 3rd decimal':np.ceil(avg_tr_per_day*1000)/1000, 'Rounded down to 3rd decimal':np.floor(avg_tr_per_day*1000)/1000}\n",
    "avg_dict"
   ]
  },
  {
   "cell_type": "markdown",
   "id": "3a030726-4f5a-4ea1-b278-8ab87b01ef72",
   "metadata": {},
   "source": [
    "### 2.5. Bonus"
   ]
  },
  {
   "cell_type": "code",
   "execution_count": 9,
   "id": "c77441ba-cf9c-407e-a5a4-ab83639a5c0c",
   "metadata": {},
   "outputs": [
    {
     "name": "stdout",
     "output_type": "stream",
     "text": [
      "<class 'transaction.TransactionData'>\n",
      "RangeIndex: 1000 entries, 0 to 999\n",
      "Data columns (total 9 columns):\n",
      " #   Column        Non-Null Count  Dtype         \n",
      "---  ------        --------------  -----         \n",
      " 0   created_at    1000 non-null   datetime64[ns]\n",
      " 1   user_id       1000 non-null   object        \n",
      " 2   order_type    1000 non-null   object        \n",
      " 3   order_id      1000 non-null   object        \n",
      " 4   isin          1000 non-null   object        \n",
      " 5   quantity      1000 non-null   int64         \n",
      " 6   unit_price    1000 non-null   float64       \n",
      " 7   order_amount  1000 non-null   float64       \n",
      " 8   date          1000 non-null   object        \n",
      "dtypes: datetime64[ns](1), float64(2), int64(1), object(5)\n",
      "memory usage: 70.4+ KB\n"
     ]
    }
   ],
   "source": [
    "df.info()"
   ]
  },
  {
   "cell_type": "code",
   "execution_count": 10,
   "id": "0d355e09-8603-44c5-aeab-5665c0006981",
   "metadata": {},
   "outputs": [
    {
     "data": {
      "text/html": [
       "<div>\n",
       "<style scoped>\n",
       "    .dataframe tbody tr th:only-of-type {\n",
       "        vertical-align: middle;\n",
       "    }\n",
       "\n",
       "    .dataframe tbody tr th {\n",
       "        vertical-align: top;\n",
       "    }\n",
       "\n",
       "    .dataframe thead th {\n",
       "        text-align: right;\n",
       "    }\n",
       "</style>\n",
       "<table border=\"1\" class=\"dataframe\">\n",
       "  <thead>\n",
       "    <tr style=\"text-align: right;\">\n",
       "      <th></th>\n",
       "      <th>created_at</th>\n",
       "      <th>user_id</th>\n",
       "      <th>order_type</th>\n",
       "      <th>order_id</th>\n",
       "      <th>isin</th>\n",
       "      <th>quantity</th>\n",
       "      <th>unit_price</th>\n",
       "      <th>order_amount</th>\n",
       "      <th>date</th>\n",
       "    </tr>\n",
       "  </thead>\n",
       "  <tbody>\n",
       "    <tr>\n",
       "      <th>0</th>\n",
       "      <td>2024-03-20 00:59:03</td>\n",
       "      <td>user|57f4lb88pr59ukwzm8gpp2c5</td>\n",
       "      <td>BUY</td>\n",
       "      <td>692070b3-9c05-438c-9c59-a58fd5650fd3</td>\n",
       "      <td>LU59478382904</td>\n",
       "      <td>23</td>\n",
       "      <td>73.27</td>\n",
       "      <td>1685.21</td>\n",
       "      <td>2024-03-20</td>\n",
       "    </tr>\n",
       "    <tr>\n",
       "      <th>1</th>\n",
       "      <td>2023-01-02 01:59:03</td>\n",
       "      <td>user|57f4lb88pr59ukwzm8gpp2c5</td>\n",
       "      <td>SELL</td>\n",
       "      <td>692070b3-9c05-438c-9c59-a58fd5650ld3</td>\n",
       "      <td>LU59478382904</td>\n",
       "      <td>25</td>\n",
       "      <td>72.27</td>\n",
       "      <td>1806.75</td>\n",
       "      <td>2023-01-02</td>\n",
       "    </tr>\n",
       "    <tr>\n",
       "      <th>2</th>\n",
       "      <td>2023-01-03 12:37:34</td>\n",
       "      <td>user|2vo2lu6gm28yawaihjf9qius</td>\n",
       "      <td>SELL</td>\n",
       "      <td>d2e27f40-f526-441e-8d6f-3ae2c68d21f9</td>\n",
       "      <td>LU86746320721</td>\n",
       "      <td>85</td>\n",
       "      <td>46.60</td>\n",
       "      <td>3961.00</td>\n",
       "      <td>2023-01-03</td>\n",
       "    </tr>\n",
       "    <tr>\n",
       "      <th>3</th>\n",
       "      <td>2023-01-03 13:37:34</td>\n",
       "      <td>user|2vo2lu6gm28yawaihjf9qius</td>\n",
       "      <td>BUY</td>\n",
       "      <td>d2e27f40-f526-441e-8d6f-3ae2c68d01f9</td>\n",
       "      <td>LU86746320721</td>\n",
       "      <td>82</td>\n",
       "      <td>49.60</td>\n",
       "      <td>4067.20</td>\n",
       "      <td>2023-01-03</td>\n",
       "    </tr>\n",
       "    <tr>\n",
       "      <th>4</th>\n",
       "      <td>2023-01-03 22:44:59</td>\n",
       "      <td>user|fuzwha641i5vo3nefdas7bvs</td>\n",
       "      <td>BUY</td>\n",
       "      <td>2241ec88-dc11-45af-a472-33d0b094e0d6</td>\n",
       "      <td>LU69875763063</td>\n",
       "      <td>56</td>\n",
       "      <td>72.84</td>\n",
       "      <td>4079.04</td>\n",
       "      <td>2023-01-03</td>\n",
       "    </tr>\n",
       "  </tbody>\n",
       "</table>\n",
       "</div>"
      ],
      "text/plain": [
       "           created_at                        user_id order_type  \\\n",
       "0 2024-03-20 00:59:03  user|57f4lb88pr59ukwzm8gpp2c5        BUY   \n",
       "1 2023-01-02 01:59:03  user|57f4lb88pr59ukwzm8gpp2c5       SELL   \n",
       "2 2023-01-03 12:37:34  user|2vo2lu6gm28yawaihjf9qius       SELL   \n",
       "3 2023-01-03 13:37:34  user|2vo2lu6gm28yawaihjf9qius        BUY   \n",
       "4 2023-01-03 22:44:59  user|fuzwha641i5vo3nefdas7bvs        BUY   \n",
       "\n",
       "                               order_id           isin  quantity  unit_price  \\\n",
       "0  692070b3-9c05-438c-9c59-a58fd5650fd3  LU59478382904        23       73.27   \n",
       "1  692070b3-9c05-438c-9c59-a58fd5650ld3  LU59478382904        25       72.27   \n",
       "2  d2e27f40-f526-441e-8d6f-3ae2c68d21f9  LU86746320721        85       46.60   \n",
       "3  d2e27f40-f526-441e-8d6f-3ae2c68d01f9  LU86746320721        82       49.60   \n",
       "4  2241ec88-dc11-45af-a472-33d0b094e0d6  LU69875763063        56       72.84   \n",
       "\n",
       "   order_amount        date  \n",
       "0       1685.21  2024-03-20  \n",
       "1       1806.75  2023-01-02  \n",
       "2       3961.00  2023-01-03  \n",
       "3       4067.20  2023-01-03  \n",
       "4       4079.04  2023-01-03  "
      ]
     },
     "execution_count": 10,
     "metadata": {},
     "output_type": "execute_result"
    }
   ],
   "source": [
    "df.head(5)"
   ]
  },
  {
   "cell_type": "code",
   "execution_count": 11,
   "id": "97a1ad55-0342-4b1c-8e08-a3b526c5b5a1",
   "metadata": {},
   "outputs": [
    {
     "data": {
      "text/html": [
       "<div>\n",
       "<style scoped>\n",
       "    .dataframe tbody tr th:only-of-type {\n",
       "        vertical-align: middle;\n",
       "    }\n",
       "\n",
       "    .dataframe tbody tr th {\n",
       "        vertical-align: top;\n",
       "    }\n",
       "\n",
       "    .dataframe thead th {\n",
       "        text-align: right;\n",
       "    }\n",
       "</style>\n",
       "<table border=\"1\" class=\"dataframe\">\n",
       "  <thead>\n",
       "    <tr style=\"text-align: right;\">\n",
       "      <th></th>\n",
       "      <th>created_at</th>\n",
       "      <th>user_id</th>\n",
       "      <th>order_type</th>\n",
       "      <th>order_id</th>\n",
       "      <th>isin</th>\n",
       "      <th>quantity</th>\n",
       "      <th>unit_price</th>\n",
       "      <th>order_amount</th>\n",
       "      <th>date</th>\n",
       "    </tr>\n",
       "  </thead>\n",
       "  <tbody>\n",
       "  </tbody>\n",
       "</table>\n",
       "</div>"
      ],
      "text/plain": [
       "Empty DataFrame\n",
       "Columns: [created_at, user_id, order_type, order_id, isin, quantity, unit_price, order_amount, date]\n",
       "Index: []"
      ]
     },
     "execution_count": 11,
     "metadata": {},
     "output_type": "execute_result"
    }
   ],
   "source": [
    "dup = df[df.duplicated(keep=False)]\n",
    "dup"
   ]
  },
  {
   "cell_type": "code",
   "execution_count": 12,
   "id": "35c0bc80-fcd6-4695-9807-98e294d7010e",
   "metadata": {},
   "outputs": [
    {
     "name": "stdout",
     "output_type": "stream",
     "text": [
      "Order type has only values:  ['BUY' 'SELL']\n"
     ]
    }
   ],
   "source": [
    "print(\"Order type has only values: \", df['order_type'].unique())"
   ]
  },
  {
   "cell_type": "code",
   "execution_count": 13,
   "id": "abfd0ad4-32ce-4ee6-b868-39b8d72138c4",
   "metadata": {},
   "outputs": [
    {
     "data": {
      "text/html": [
       "<div>\n",
       "<style scoped>\n",
       "    .dataframe tbody tr th:only-of-type {\n",
       "        vertical-align: middle;\n",
       "    }\n",
       "\n",
       "    .dataframe tbody tr th {\n",
       "        vertical-align: top;\n",
       "    }\n",
       "\n",
       "    .dataframe thead th {\n",
       "        text-align: right;\n",
       "    }\n",
       "</style>\n",
       "<table border=\"1\" class=\"dataframe\">\n",
       "  <thead>\n",
       "    <tr style=\"text-align: right;\">\n",
       "      <th></th>\n",
       "      <th>created_at</th>\n",
       "      <th>user_id</th>\n",
       "      <th>order_type</th>\n",
       "      <th>order_id</th>\n",
       "      <th>isin</th>\n",
       "      <th>quantity</th>\n",
       "      <th>unit_price</th>\n",
       "      <th>order_amount</th>\n",
       "      <th>date</th>\n",
       "    </tr>\n",
       "  </thead>\n",
       "  <tbody>\n",
       "    <tr>\n",
       "      <th>0</th>\n",
       "      <td>2024-03-20 00:59:03</td>\n",
       "      <td>user|57f4lb88pr59ukwzm8gpp2c5</td>\n",
       "      <td>BUY</td>\n",
       "      <td>692070b3-9c05-438c-9c59-a58fd5650fd3</td>\n",
       "      <td>LU59478382904</td>\n",
       "      <td>23</td>\n",
       "      <td>73.27</td>\n",
       "      <td>1685.21</td>\n",
       "      <td>2024-03-20</td>\n",
       "    </tr>\n",
       "  </tbody>\n",
       "</table>\n",
       "</div>"
      ],
      "text/plain": [
       "           created_at                        user_id order_type  \\\n",
       "0 2024-03-20 00:59:03  user|57f4lb88pr59ukwzm8gpp2c5        BUY   \n",
       "\n",
       "                               order_id           isin  quantity  unit_price  \\\n",
       "0  692070b3-9c05-438c-9c59-a58fd5650fd3  LU59478382904        23       73.27   \n",
       "\n",
       "   order_amount        date  \n",
       "0       1685.21  2024-03-20  "
      ]
     },
     "execution_count": 13,
     "metadata": {},
     "output_type": "execute_result"
    }
   ],
   "source": [
    "df.get_future_transactions()"
   ]
  },
  {
   "cell_type": "markdown",
   "id": "612e843e-29b3-4c73-b21f-ead7d8b72de5",
   "metadata": {},
   "source": [
    "## 3. Advanced analysis"
   ]
  },
  {
   "cell_type": "markdown",
   "id": "8822736e-44e4-4db8-801a-ed506843afea",
   "metadata": {},
   "source": [
    "### 3.1. Standart deviation of the order amount"
   ]
  },
  {
   "cell_type": "code",
   "execution_count": 14,
   "id": "dc429020-2ca1-45fb-81ee-559927900e4c",
   "metadata": {},
   "outputs": [
    {
     "name": "stdout",
     "output_type": "stream",
     "text": [
      "Average order amount: 3078.8\n"
     ]
    }
   ],
   "source": [
    "print(f\"Average order amount: {round(avg_order_amount,2)}\")"
   ]
  },
  {
   "cell_type": "code",
   "execution_count": 15,
   "id": "a0ebea65-34a1-4126-a4ea-e5d177230610",
   "metadata": {},
   "outputs": [
    {
     "name": "stdout",
     "output_type": "stream",
     "text": [
      "Standart deviation of the order amount: 2216.88\n"
     ]
    }
   ],
   "source": [
    "dev_order_amount = df['order_amount'].std()\n",
    "print(f\"Standart deviation of the order amount: {round(dev_order_amount,2)}\")"
   ]
  },
  {
   "cell_type": "markdown",
   "id": "c6c94421-a19a-48f2-933d-106b14acf3bd",
   "metadata": {},
   "source": [
    "### 3.2. Total value of orders per client"
   ]
  },
  {
   "cell_type": "markdown",
   "id": "8b8ae34d-b4dc-4467-9074-06ab28e5f1cf",
   "metadata": {},
   "source": [
    "#### 3.2.1. Turnover"
   ]
  },
  {
   "cell_type": "code",
   "execution_count": 16,
   "id": "2e3c1abd-0a89-4b58-9bc6-73d065da49b4",
   "metadata": {},
   "outputs": [
    {
     "data": {
      "text/html": [
       "<div>\n",
       "<style scoped>\n",
       "    .dataframe tbody tr th:only-of-type {\n",
       "        vertical-align: middle;\n",
       "    }\n",
       "\n",
       "    .dataframe tbody tr th {\n",
       "        vertical-align: top;\n",
       "    }\n",
       "\n",
       "    .dataframe thead th {\n",
       "        text-align: right;\n",
       "    }\n",
       "</style>\n",
       "<table border=\"1\" class=\"dataframe\">\n",
       "  <thead>\n",
       "    <tr style=\"text-align: right;\">\n",
       "      <th></th>\n",
       "      <th>user_id</th>\n",
       "      <th>turnover</th>\n",
       "    </tr>\n",
       "  </thead>\n",
       "  <tbody>\n",
       "    <tr>\n",
       "      <th>0</th>\n",
       "      <td>user|05bz049zxtrqv36du1t15c8a</td>\n",
       "      <td>33692.51</td>\n",
       "    </tr>\n",
       "    <tr>\n",
       "      <th>1</th>\n",
       "      <td>user|0somdbu7edlcp5itqndm0d6m</td>\n",
       "      <td>19659.10</td>\n",
       "    </tr>\n",
       "    <tr>\n",
       "      <th>2</th>\n",
       "      <td>user|1da4616q4vmfz6kks9k98z5p</td>\n",
       "      <td>49047.76</td>\n",
       "    </tr>\n",
       "    <tr>\n",
       "      <th>3</th>\n",
       "      <td>user|1dups1jc996hp9mnntxkxwdj</td>\n",
       "      <td>39277.88</td>\n",
       "    </tr>\n",
       "    <tr>\n",
       "      <th>4</th>\n",
       "      <td>user|1q6otxc00dwwkgs32tc3lvf2</td>\n",
       "      <td>22126.44</td>\n",
       "    </tr>\n",
       "    <tr>\n",
       "      <th>...</th>\n",
       "      <td>...</td>\n",
       "      <td>...</td>\n",
       "    </tr>\n",
       "    <tr>\n",
       "      <th>95</th>\n",
       "      <td>user|yyyo77vf2js1y0jm1erus575</td>\n",
       "      <td>4395.22</td>\n",
       "    </tr>\n",
       "    <tr>\n",
       "      <th>96</th>\n",
       "      <td>user|z5vqpdf31l1crdhbyifj86f9</td>\n",
       "      <td>275094.72</td>\n",
       "    </tr>\n",
       "    <tr>\n",
       "      <th>97</th>\n",
       "      <td>user|z7j9w1hnqox9krm9yjw6tkfg</td>\n",
       "      <td>11250.47</td>\n",
       "    </tr>\n",
       "    <tr>\n",
       "      <th>98</th>\n",
       "      <td>user|zxx006cxqcc27iybrrneyouq</td>\n",
       "      <td>14515.74</td>\n",
       "    </tr>\n",
       "    <tr>\n",
       "      <th>99</th>\n",
       "      <td>user|zy1q3cd3ot72b43rolvaoki9</td>\n",
       "      <td>21790.51</td>\n",
       "    </tr>\n",
       "  </tbody>\n",
       "</table>\n",
       "<p>100 rows × 2 columns</p>\n",
       "</div>"
      ],
      "text/plain": [
       "                          user_id   turnover\n",
       "0   user|05bz049zxtrqv36du1t15c8a   33692.51\n",
       "1   user|0somdbu7edlcp5itqndm0d6m   19659.10\n",
       "2   user|1da4616q4vmfz6kks9k98z5p   49047.76\n",
       "3   user|1dups1jc996hp9mnntxkxwdj   39277.88\n",
       "4   user|1q6otxc00dwwkgs32tc3lvf2   22126.44\n",
       "..                            ...        ...\n",
       "95  user|yyyo77vf2js1y0jm1erus575    4395.22\n",
       "96  user|z5vqpdf31l1crdhbyifj86f9  275094.72\n",
       "97  user|z7j9w1hnqox9krm9yjw6tkfg   11250.47\n",
       "98  user|zxx006cxqcc27iybrrneyouq   14515.74\n",
       "99  user|zy1q3cd3ot72b43rolvaoki9   21790.51\n",
       "\n",
       "[100 rows x 2 columns]"
      ]
     },
     "execution_count": 16,
     "metadata": {},
     "output_type": "execute_result"
    }
   ],
   "source": [
    "client_abs_value = df.groupby(['user_id'])['order_amount'].sum().reset_index(name='turnover')\n",
    "client_abs_value"
   ]
  },
  {
   "cell_type": "markdown",
   "id": "33cd7fb6-0598-4471-8d07-e000da960e93",
   "metadata": {},
   "source": [
    "#### 3.2.2. Balance (debit - credit)"
   ]
  },
  {
   "cell_type": "code",
   "execution_count": 17,
   "id": "7027e60e-74cf-42e1-8860-c0da59056785",
   "metadata": {},
   "outputs": [
    {
     "data": {
      "text/html": [
       "<div>\n",
       "<style scoped>\n",
       "    .dataframe tbody tr th:only-of-type {\n",
       "        vertical-align: middle;\n",
       "    }\n",
       "\n",
       "    .dataframe tbody tr th {\n",
       "        vertical-align: top;\n",
       "    }\n",
       "\n",
       "    .dataframe thead th {\n",
       "        text-align: right;\n",
       "    }\n",
       "</style>\n",
       "<table border=\"1\" class=\"dataframe\">\n",
       "  <thead>\n",
       "    <tr style=\"text-align: right;\">\n",
       "      <th>order_type</th>\n",
       "      <th>BUY</th>\n",
       "      <th>SELL</th>\n",
       "      <th>balance</th>\n",
       "    </tr>\n",
       "    <tr>\n",
       "      <th>user_id</th>\n",
       "      <th></th>\n",
       "      <th></th>\n",
       "      <th></th>\n",
       "    </tr>\n",
       "  </thead>\n",
       "  <tbody>\n",
       "    <tr>\n",
       "      <th>user|05bz049zxtrqv36du1t15c8a</th>\n",
       "      <td>33692.51</td>\n",
       "      <td>0.00</td>\n",
       "      <td>33692.51</td>\n",
       "    </tr>\n",
       "    <tr>\n",
       "      <th>user|0somdbu7edlcp5itqndm0d6m</th>\n",
       "      <td>18144.50</td>\n",
       "      <td>1514.60</td>\n",
       "      <td>16629.90</td>\n",
       "    </tr>\n",
       "    <tr>\n",
       "      <th>user|1da4616q4vmfz6kks9k98z5p</th>\n",
       "      <td>45407.70</td>\n",
       "      <td>3640.06</td>\n",
       "      <td>41767.64</td>\n",
       "    </tr>\n",
       "    <tr>\n",
       "      <th>user|1dups1jc996hp9mnntxkxwdj</th>\n",
       "      <td>34222.93</td>\n",
       "      <td>5054.95</td>\n",
       "      <td>29167.98</td>\n",
       "    </tr>\n",
       "    <tr>\n",
       "      <th>user|1q6otxc00dwwkgs32tc3lvf2</th>\n",
       "      <td>15876.23</td>\n",
       "      <td>6250.21</td>\n",
       "      <td>9626.02</td>\n",
       "    </tr>\n",
       "    <tr>\n",
       "      <th>...</th>\n",
       "      <td>...</td>\n",
       "      <td>...</td>\n",
       "      <td>...</td>\n",
       "    </tr>\n",
       "    <tr>\n",
       "      <th>user|yyyo77vf2js1y0jm1erus575</th>\n",
       "      <td>4395.22</td>\n",
       "      <td>0.00</td>\n",
       "      <td>4395.22</td>\n",
       "    </tr>\n",
       "    <tr>\n",
       "      <th>user|z5vqpdf31l1crdhbyifj86f9</th>\n",
       "      <td>243142.39</td>\n",
       "      <td>31952.33</td>\n",
       "      <td>211190.06</td>\n",
       "    </tr>\n",
       "    <tr>\n",
       "      <th>user|z7j9w1hnqox9krm9yjw6tkfg</th>\n",
       "      <td>7737.27</td>\n",
       "      <td>3513.20</td>\n",
       "      <td>4224.07</td>\n",
       "    </tr>\n",
       "    <tr>\n",
       "      <th>user|zxx006cxqcc27iybrrneyouq</th>\n",
       "      <td>14315.10</td>\n",
       "      <td>200.64</td>\n",
       "      <td>14114.46</td>\n",
       "    </tr>\n",
       "    <tr>\n",
       "      <th>user|zy1q3cd3ot72b43rolvaoki9</th>\n",
       "      <td>21790.51</td>\n",
       "      <td>0.00</td>\n",
       "      <td>21790.51</td>\n",
       "    </tr>\n",
       "  </tbody>\n",
       "</table>\n",
       "<p>100 rows × 3 columns</p>\n",
       "</div>"
      ],
      "text/plain": [
       "order_type                           BUY      SELL    balance\n",
       "user_id                                                      \n",
       "user|05bz049zxtrqv36du1t15c8a   33692.51      0.00   33692.51\n",
       "user|0somdbu7edlcp5itqndm0d6m   18144.50   1514.60   16629.90\n",
       "user|1da4616q4vmfz6kks9k98z5p   45407.70   3640.06   41767.64\n",
       "user|1dups1jc996hp9mnntxkxwdj   34222.93   5054.95   29167.98\n",
       "user|1q6otxc00dwwkgs32tc3lvf2   15876.23   6250.21    9626.02\n",
       "...                                  ...       ...        ...\n",
       "user|yyyo77vf2js1y0jm1erus575    4395.22      0.00    4395.22\n",
       "user|z5vqpdf31l1crdhbyifj86f9  243142.39  31952.33  211190.06\n",
       "user|z7j9w1hnqox9krm9yjw6tkfg    7737.27   3513.20    4224.07\n",
       "user|zxx006cxqcc27iybrrneyouq   14315.10    200.64   14114.46\n",
       "user|zy1q3cd3ot72b43rolvaoki9   21790.51      0.00   21790.51\n",
       "\n",
       "[100 rows x 3 columns]"
      ]
     },
     "execution_count": 17,
     "metadata": {},
     "output_type": "execute_result"
    }
   ],
   "source": [
    "pivot_user = df.pivot_table(index='user_id', columns='order_type', values='order_amount', aggfunc='sum', fill_value=0)\n",
    "pivot_user['balance']=pivot_user['BUY']-pivot_user['SELL']\n",
    "pivot_user"
   ]
  },
  {
   "cell_type": "markdown",
   "id": "83318232-7597-46d8-b7f5-fd1c3aafa88e",
   "metadata": {},
   "source": [
    "### 3.3. Bonus"
   ]
  },
  {
   "cell_type": "markdown",
   "id": "78c6aa93-19f9-4f5e-b81f-d697397e03d8",
   "metadata": {},
   "source": [
    "#### 3.3.1. Additional info about dataframe"
   ]
  },
  {
   "cell_type": "code",
   "execution_count": 18,
   "id": "edd0f944-0f6b-43f1-9030-f71ce9aa5846",
   "metadata": {},
   "outputs": [
    {
     "data": {
      "text/html": [
       "<div>\n",
       "<style scoped>\n",
       "    .dataframe tbody tr th:only-of-type {\n",
       "        vertical-align: middle;\n",
       "    }\n",
       "\n",
       "    .dataframe tbody tr th {\n",
       "        vertical-align: top;\n",
       "    }\n",
       "\n",
       "    .dataframe thead th {\n",
       "        text-align: right;\n",
       "    }\n",
       "</style>\n",
       "<table border=\"1\" class=\"dataframe\">\n",
       "  <thead>\n",
       "    <tr style=\"text-align: right;\">\n",
       "      <th></th>\n",
       "      <th>created_at</th>\n",
       "      <th>quantity</th>\n",
       "      <th>unit_price</th>\n",
       "      <th>order_amount</th>\n",
       "    </tr>\n",
       "  </thead>\n",
       "  <tbody>\n",
       "    <tr>\n",
       "      <th>count</th>\n",
       "      <td>1000</td>\n",
       "      <td>1000.000000</td>\n",
       "      <td>1000.000000</td>\n",
       "      <td>1000.00000</td>\n",
       "    </tr>\n",
       "    <tr>\n",
       "      <th>mean</th>\n",
       "      <td>2023-07-01 11:33:20.694999808</td>\n",
       "      <td>50.401000</td>\n",
       "      <td>60.381350</td>\n",
       "      <td>3078.79807</td>\n",
       "    </tr>\n",
       "    <tr>\n",
       "      <th>min</th>\n",
       "      <td>2023-01-02 01:59:03</td>\n",
       "      <td>1.000000</td>\n",
       "      <td>20.090000</td>\n",
       "      <td>46.98000</td>\n",
       "    </tr>\n",
       "    <tr>\n",
       "      <th>25%</th>\n",
       "      <td>2023-03-25 23:30:05</td>\n",
       "      <td>26.000000</td>\n",
       "      <td>40.672500</td>\n",
       "      <td>1342.38750</td>\n",
       "    </tr>\n",
       "    <tr>\n",
       "      <th>50%</th>\n",
       "      <td>2023-06-28 04:13:38.500000</td>\n",
       "      <td>49.000000</td>\n",
       "      <td>61.640000</td>\n",
       "      <td>2518.50500</td>\n",
       "    </tr>\n",
       "    <tr>\n",
       "      <th>75%</th>\n",
       "      <td>2023-10-02 20:07:51.500000</td>\n",
       "      <td>74.000000</td>\n",
       "      <td>80.405000</td>\n",
       "      <td>4381.99000</td>\n",
       "    </tr>\n",
       "    <tr>\n",
       "      <th>max</th>\n",
       "      <td>2024-03-20 00:59:03</td>\n",
       "      <td>100.000000</td>\n",
       "      <td>99.990000</td>\n",
       "      <td>9899.01000</td>\n",
       "    </tr>\n",
       "    <tr>\n",
       "      <th>std</th>\n",
       "      <td>NaN</td>\n",
       "      <td>28.219329</td>\n",
       "      <td>22.872355</td>\n",
       "      <td>2216.87644</td>\n",
       "    </tr>\n",
       "  </tbody>\n",
       "</table>\n",
       "</div>"
      ],
      "text/plain": [
       "                          created_at     quantity   unit_price  order_amount\n",
       "count                           1000  1000.000000  1000.000000    1000.00000\n",
       "mean   2023-07-01 11:33:20.694999808    50.401000    60.381350    3078.79807\n",
       "min              2023-01-02 01:59:03     1.000000    20.090000      46.98000\n",
       "25%              2023-03-25 23:30:05    26.000000    40.672500    1342.38750\n",
       "50%       2023-06-28 04:13:38.500000    49.000000    61.640000    2518.50500\n",
       "75%       2023-10-02 20:07:51.500000    74.000000    80.405000    4381.99000\n",
       "max              2024-03-20 00:59:03   100.000000    99.990000    9899.01000\n",
       "std                              NaN    28.219329    22.872355    2216.87644"
      ]
     },
     "execution_count": 18,
     "metadata": {},
     "output_type": "execute_result"
    }
   ],
   "source": [
    "df.describe()"
   ]
  },
  {
   "cell_type": "markdown",
   "id": "31d966c1-ddd3-4b09-be9a-8360e5d42f06",
   "metadata": {},
   "source": [
    "#### 3.3.2. Seasonal change of total orders value (transaction activity)"
   ]
  },
  {
   "cell_type": "code",
   "execution_count": 19,
   "id": "22757261-7f39-4d75-93cb-5f6a00704eb4",
   "metadata": {},
   "outputs": [
    {
     "data": {
      "image/png": "[encoded data removed]",
      "text/plain": [
       "<Figure size 640x480 with 1 Axes>"
      ]
     },
     "metadata": {},
     "output_type": "display_data"
    }
   ],
   "source": [
    "df.plot_tr_activity()"
   ]
  },
  {
   "cell_type": "markdown",
   "id": "0fa994e1-7b67-4e2f-9986-f7b0cd6b5394",
   "metadata": {},
   "source": [
    "#### 3.3.3. Total value of orders per day"
   ]
  },
  {
   "cell_type": "code",
   "execution_count": 20,
   "id": "f976defb-69dc-4f89-b9d3-9256a2874e5e",
   "metadata": {},
   "outputs": [
    {
     "data": {
      "text/html": [
       "<div>\n",
       "<style scoped>\n",
       "    .dataframe tbody tr th:only-of-type {\n",
       "        vertical-align: middle;\n",
       "    }\n",
       "\n",
       "    .dataframe tbody tr th {\n",
       "        vertical-align: top;\n",
       "    }\n",
       "\n",
       "    .dataframe thead th {\n",
       "        text-align: right;\n",
       "    }\n",
       "</style>\n",
       "<table border=\"1\" class=\"dataframe\">\n",
       "  <thead>\n",
       "    <tr style=\"text-align: right;\">\n",
       "      <th></th>\n",
       "      <th>date</th>\n",
       "      <th>turnover</th>\n",
       "    </tr>\n",
       "  </thead>\n",
       "  <tbody>\n",
       "    <tr>\n",
       "      <th>0</th>\n",
       "      <td>2023-01-02</td>\n",
       "      <td>1806.75</td>\n",
       "    </tr>\n",
       "    <tr>\n",
       "      <th>1</th>\n",
       "      <td>2023-01-03</td>\n",
       "      <td>12107.24</td>\n",
       "    </tr>\n",
       "    <tr>\n",
       "      <th>2</th>\n",
       "      <td>2023-01-04</td>\n",
       "      <td>6468.10</td>\n",
       "    </tr>\n",
       "    <tr>\n",
       "      <th>3</th>\n",
       "      <td>2023-01-05</td>\n",
       "      <td>7546.18</td>\n",
       "    </tr>\n",
       "    <tr>\n",
       "      <th>4</th>\n",
       "      <td>2023-01-06</td>\n",
       "      <td>8506.70</td>\n",
       "    </tr>\n",
       "    <tr>\n",
       "      <th>...</th>\n",
       "      <td>...</td>\n",
       "      <td>...</td>\n",
       "    </tr>\n",
       "    <tr>\n",
       "      <th>329</th>\n",
       "      <td>2023-12-28</td>\n",
       "      <td>7904.52</td>\n",
       "    </tr>\n",
       "    <tr>\n",
       "      <th>330</th>\n",
       "      <td>2023-12-29</td>\n",
       "      <td>16766.88</td>\n",
       "    </tr>\n",
       "    <tr>\n",
       "      <th>331</th>\n",
       "      <td>2023-12-30</td>\n",
       "      <td>19353.11</td>\n",
       "    </tr>\n",
       "    <tr>\n",
       "      <th>332</th>\n",
       "      <td>2023-12-31</td>\n",
       "      <td>8045.56</td>\n",
       "    </tr>\n",
       "    <tr>\n",
       "      <th>333</th>\n",
       "      <td>2024-03-20</td>\n",
       "      <td>1685.21</td>\n",
       "    </tr>\n",
       "  </tbody>\n",
       "</table>\n",
       "<p>334 rows × 2 columns</p>\n",
       "</div>"
      ],
      "text/plain": [
       "           date  turnover\n",
       "0    2023-01-02   1806.75\n",
       "1    2023-01-03  12107.24\n",
       "2    2023-01-04   6468.10\n",
       "3    2023-01-05   7546.18\n",
       "4    2023-01-06   8506.70\n",
       "..          ...       ...\n",
       "329  2023-12-28   7904.52\n",
       "330  2023-12-29  16766.88\n",
       "331  2023-12-30  19353.11\n",
       "332  2023-12-31   8045.56\n",
       "333  2024-03-20   1685.21\n",
       "\n",
       "[334 rows x 2 columns]"
      ]
     },
     "execution_count": 20,
     "metadata": {},
     "output_type": "execute_result"
    }
   ],
   "source": [
    "per_date = df.groupby('date')['order_amount'].sum().reset_index(name='turnover')\n",
    "per_date"
   ]
  },
  {
   "cell_type": "markdown",
   "id": "03a24e3d-79c5-49ff-8d39-a87047854e07",
   "metadata": {},
   "source": [
    "#### 3.3.4. Total value of orders per fund (balance)"
   ]
  },
  {
   "cell_type": "code",
   "execution_count": 21,
   "id": "25cfc1b0-f3b1-4118-97b9-c5cc6fd1bc0f",
   "metadata": {},
   "outputs": [
    {
     "data": {
      "text/html": [
       "<div>\n",
       "<style scoped>\n",
       "    .dataframe tbody tr th:only-of-type {\n",
       "        vertical-align: middle;\n",
       "    }\n",
       "\n",
       "    .dataframe tbody tr th {\n",
       "        vertical-align: top;\n",
       "    }\n",
       "\n",
       "    .dataframe thead th {\n",
       "        text-align: right;\n",
       "    }\n",
       "</style>\n",
       "<table border=\"1\" class=\"dataframe\">\n",
       "  <thead>\n",
       "    <tr style=\"text-align: right;\">\n",
       "      <th></th>\n",
       "      <th>BUY</th>\n",
       "      <th>SELL</th>\n",
       "      <th>balance</th>\n",
       "    </tr>\n",
       "    <tr>\n",
       "      <th>isin</th>\n",
       "      <th></th>\n",
       "      <th></th>\n",
       "      <th></th>\n",
       "    </tr>\n",
       "  </thead>\n",
       "  <tbody>\n",
       "    <tr>\n",
       "      <th>LU01416244305</th>\n",
       "      <td>19810.87</td>\n",
       "      <td>0.00</td>\n",
       "      <td>19810.87</td>\n",
       "    </tr>\n",
       "    <tr>\n",
       "      <th>LU01917690138</th>\n",
       "      <td>14545.13</td>\n",
       "      <td>1514.60</td>\n",
       "      <td>13030.53</td>\n",
       "    </tr>\n",
       "    <tr>\n",
       "      <th>LU02052615892</th>\n",
       "      <td>21391.72</td>\n",
       "      <td>4267.62</td>\n",
       "      <td>17124.10</td>\n",
       "    </tr>\n",
       "    <tr>\n",
       "      <th>LU03543140768</th>\n",
       "      <td>18497.46</td>\n",
       "      <td>8447.67</td>\n",
       "      <td>10049.79</td>\n",
       "    </tr>\n",
       "    <tr>\n",
       "      <th>LU03614501122</th>\n",
       "      <td>4258.96</td>\n",
       "      <td>1712.16</td>\n",
       "      <td>2546.80</td>\n",
       "    </tr>\n",
       "    <tr>\n",
       "      <th>...</th>\n",
       "      <td>...</td>\n",
       "      <td>...</td>\n",
       "      <td>...</td>\n",
       "    </tr>\n",
       "    <tr>\n",
       "      <th>LU96462479751</th>\n",
       "      <td>10889.40</td>\n",
       "      <td>1438.08</td>\n",
       "      <td>9451.32</td>\n",
       "    </tr>\n",
       "    <tr>\n",
       "      <th>LU97005759224</th>\n",
       "      <td>2483.74</td>\n",
       "      <td>0.00</td>\n",
       "      <td>2483.74</td>\n",
       "    </tr>\n",
       "    <tr>\n",
       "      <th>LU97501947824</th>\n",
       "      <td>19508.24</td>\n",
       "      <td>9122.10</td>\n",
       "      <td>10386.14</td>\n",
       "    </tr>\n",
       "    <tr>\n",
       "      <th>LU98163828108</th>\n",
       "      <td>29448.70</td>\n",
       "      <td>0.00</td>\n",
       "      <td>29448.70</td>\n",
       "    </tr>\n",
       "    <tr>\n",
       "      <th>LU98696712612</th>\n",
       "      <td>5552.20</td>\n",
       "      <td>7097.28</td>\n",
       "      <td>-1545.08</td>\n",
       "    </tr>\n",
       "  </tbody>\n",
       "</table>\n",
       "<p>150 rows × 3 columns</p>\n",
       "</div>"
      ],
      "text/plain": [
       "                    BUY     SELL   balance\n",
       "isin                                      \n",
       "LU01416244305  19810.87     0.00  19810.87\n",
       "LU01917690138  14545.13  1514.60  13030.53\n",
       "LU02052615892  21391.72  4267.62  17124.10\n",
       "LU03543140768  18497.46  8447.67  10049.79\n",
       "LU03614501122   4258.96  1712.16   2546.80\n",
       "...                 ...      ...       ...\n",
       "LU96462479751  10889.40  1438.08   9451.32\n",
       "LU97005759224   2483.74     0.00   2483.74\n",
       "LU97501947824  19508.24  9122.10  10386.14\n",
       "LU98163828108  29448.70     0.00  29448.70\n",
       "LU98696712612   5552.20  7097.28  -1545.08\n",
       "\n",
       "[150 rows x 3 columns]"
      ]
     },
     "execution_count": 21,
     "metadata": {},
     "output_type": "execute_result"
    }
   ],
   "source": [
    "pivot_isin = df.pivot_table(index='isin', columns='order_type', values='order_amount', aggfunc='sum', fill_value=0).rename_axis(None, axis=1)\n",
    "pivot_isin['balance']=pivot_isin['BUY']-pivot_isin['SELL']\n",
    "pivot_isin"
   ]
  },
  {
   "cell_type": "markdown",
   "id": "fb9176ae-a439-4ec1-889f-594d8923baa2",
   "metadata": {},
   "source": [
    "## 4. Suspicious Transactions"
   ]
  },
  {
   "cell_type": "markdown",
   "id": "89840a03-e71d-4085-9de3-49502dafa004",
   "metadata": {},
   "source": [
    "### 4.1. Order value > n"
   ]
  },
  {
   "cell_type": "code",
   "execution_count": 22,
   "id": "fd426f43-96cc-4640-bf54-3c978d6b85d7",
   "metadata": {},
   "outputs": [
    {
     "name": "stdout",
     "output_type": "stream",
     "text": [
      "Suspicious activity!\n"
     ]
    },
    {
     "data": {
      "text/html": [
       "<div>\n",
       "<style scoped>\n",
       "    .dataframe tbody tr th:only-of-type {\n",
       "        vertical-align: middle;\n",
       "    }\n",
       "\n",
       "    .dataframe tbody tr th {\n",
       "        vertical-align: top;\n",
       "    }\n",
       "\n",
       "    .dataframe thead th {\n",
       "        text-align: right;\n",
       "    }\n",
       "</style>\n",
       "<table border=\"1\" class=\"dataframe\">\n",
       "  <thead>\n",
       "    <tr style=\"text-align: right;\">\n",
       "      <th></th>\n",
       "      <th>created_at</th>\n",
       "      <th>user_id</th>\n",
       "      <th>order_id</th>\n",
       "      <th>order_amount</th>\n",
       "    </tr>\n",
       "  </thead>\n",
       "  <tbody>\n",
       "    <tr>\n",
       "      <th>598</th>\n",
       "      <td>2023-08-07 18:18:32</td>\n",
       "      <td>user|cw5oxh3duvvd3l8xw9z0hwlc</td>\n",
       "      <td>c7f21d58-426d-4f64-aea4-275a9fa8e7b3</td>\n",
       "      <td>9629.48</td>\n",
       "    </tr>\n",
       "    <tr>\n",
       "      <th>666</th>\n",
       "      <td>2023-09-04 03:41:44</td>\n",
       "      <td>user|omf8p6app6njuii2z0pdc0hk</td>\n",
       "      <td>f0108d9f-9088-43f4-bba3-dc779b2bcba0</td>\n",
       "      <td>9899.01</td>\n",
       "    </tr>\n",
       "    <tr>\n",
       "      <th>734</th>\n",
       "      <td>2023-09-28 15:50:21</td>\n",
       "      <td>user|z5vqpdf31l1crdhbyifj86f9</td>\n",
       "      <td>7c1d2c0a-f443-425f-9f68-70b74c896cf0</td>\n",
       "      <td>9714.00</td>\n",
       "    </tr>\n",
       "    <tr>\n",
       "      <th>815</th>\n",
       "      <td>2023-11-02 04:45:12</td>\n",
       "      <td>user|fuzwha641i5vo3nefdas7bvs</td>\n",
       "      <td>a998bc71-dc9b-428b-b023-23112558ef31</td>\n",
       "      <td>9524.16</td>\n",
       "    </tr>\n",
       "  </tbody>\n",
       "</table>\n",
       "</div>"
      ],
      "text/plain": [
       "             created_at                        user_id  \\\n",
       "598 2023-08-07 18:18:32  user|cw5oxh3duvvd3l8xw9z0hwlc   \n",
       "666 2023-09-04 03:41:44  user|omf8p6app6njuii2z0pdc0hk   \n",
       "734 2023-09-28 15:50:21  user|z5vqpdf31l1crdhbyifj86f9   \n",
       "815 2023-11-02 04:45:12  user|fuzwha641i5vo3nefdas7bvs   \n",
       "\n",
       "                                 order_id  order_amount  \n",
       "598  c7f21d58-426d-4f64-aea4-275a9fa8e7b3       9629.48  \n",
       "666  f0108d9f-9088-43f4-bba3-dc779b2bcba0       9899.01  \n",
       "734  7c1d2c0a-f443-425f-9f68-70b74c896cf0       9714.00  \n",
       "815  a998bc71-dc9b-428b-b023-23112558ef31       9524.16  "
      ]
     },
     "execution_count": 22,
     "metadata": {},
     "output_type": "execute_result"
    }
   ],
   "source": [
    "df.susp_order_amount(9500)"
   ]
  },
  {
   "cell_type": "markdown",
   "id": "83514618-db2a-4f43-b781-8ebb30e0648f",
   "metadata": {},
   "source": [
    "### 4.2. High frequency orders (threshold in min)"
   ]
  },
  {
   "cell_type": "code",
   "execution_count": 23,
   "id": "92740283-45ed-4697-b246-040786cf6274",
   "metadata": {},
   "outputs": [
    {
     "data": {
      "text/html": [
       "<div>\n",
       "<style scoped>\n",
       "    .dataframe tbody tr th:only-of-type {\n",
       "        vertical-align: middle;\n",
       "    }\n",
       "\n",
       "    .dataframe tbody tr th {\n",
       "        vertical-align: top;\n",
       "    }\n",
       "\n",
       "    .dataframe thead th {\n",
       "        text-align: right;\n",
       "    }\n",
       "</style>\n",
       "<table border=\"1\" class=\"dataframe\">\n",
       "  <thead>\n",
       "    <tr style=\"text-align: right;\">\n",
       "      <th></th>\n",
       "      <th>user_id</th>\n",
       "      <th>created_at</th>\n",
       "      <th>order_id</th>\n",
       "      <th>order_amount</th>\n",
       "    </tr>\n",
       "  </thead>\n",
       "  <tbody>\n",
       "    <tr>\n",
       "      <th>85</th>\n",
       "      <td>user|2vo2lu6gm28yawaihjf9qius</td>\n",
       "      <td>2023-01-03 12:37:34</td>\n",
       "      <td>d2e27f40-f526-441e-8d6f-3ae2c68d21f9</td>\n",
       "      <td>3961.00</td>\n",
       "    </tr>\n",
       "    <tr>\n",
       "      <th>86</th>\n",
       "      <td>user|2vo2lu6gm28yawaihjf9qius</td>\n",
       "      <td>2023-01-03 13:37:34</td>\n",
       "      <td>d2e27f40-f526-441e-8d6f-3ae2c68d01f9</td>\n",
       "      <td>4067.20</td>\n",
       "    </tr>\n",
       "    <tr>\n",
       "      <th>563</th>\n",
       "      <td>user|n4jjtiirlddz2b2lryq8lucl</td>\n",
       "      <td>2023-10-14 10:11:14</td>\n",
       "      <td>1e35eb82-7c8e-43be-afdb-f7be388cff77</td>\n",
       "      <td>1212.56</td>\n",
       "    </tr>\n",
       "    <tr>\n",
       "      <th>564</th>\n",
       "      <td>user|n4jjtiirlddz2b2lryq8lucl</td>\n",
       "      <td>2023-10-14 12:27:15</td>\n",
       "      <td>d437f8e7-a4db-4e74-8a81-139bbea0bd18</td>\n",
       "      <td>2331.68</td>\n",
       "    </tr>\n",
       "    <tr>\n",
       "      <th>564</th>\n",
       "      <td>user|n4jjtiirlddz2b2lryq8lucl</td>\n",
       "      <td>2023-10-14 12:27:15</td>\n",
       "      <td>d437f8e7-a4db-4e74-8a81-139bbea0bd18</td>\n",
       "      <td>2331.68</td>\n",
       "    </tr>\n",
       "    <tr>\n",
       "      <th>565</th>\n",
       "      <td>user|n4jjtiirlddz2b2lryq8lucl</td>\n",
       "      <td>2023-10-14 12:30:03</td>\n",
       "      <td>44e4772e-71c5-4d71-bcc9-6b502d1e4af4</td>\n",
       "      <td>2187.64</td>\n",
       "    </tr>\n",
       "  </tbody>\n",
       "</table>\n",
       "</div>"
      ],
      "text/plain": [
       "                           user_id          created_at  \\\n",
       "85   user|2vo2lu6gm28yawaihjf9qius 2023-01-03 12:37:34   \n",
       "86   user|2vo2lu6gm28yawaihjf9qius 2023-01-03 13:37:34   \n",
       "563  user|n4jjtiirlddz2b2lryq8lucl 2023-10-14 10:11:14   \n",
       "564  user|n4jjtiirlddz2b2lryq8lucl 2023-10-14 12:27:15   \n",
       "564  user|n4jjtiirlddz2b2lryq8lucl 2023-10-14 12:27:15   \n",
       "565  user|n4jjtiirlddz2b2lryq8lucl 2023-10-14 12:30:03   \n",
       "\n",
       "                                 order_id  order_amount  \n",
       "85   d2e27f40-f526-441e-8d6f-3ae2c68d21f9       3961.00  \n",
       "86   d2e27f40-f526-441e-8d6f-3ae2c68d01f9       4067.20  \n",
       "563  1e35eb82-7c8e-43be-afdb-f7be388cff77       1212.56  \n",
       "564  d437f8e7-a4db-4e74-8a81-139bbea0bd18       2331.68  \n",
       "564  d437f8e7-a4db-4e74-8a81-139bbea0bd18       2331.68  \n",
       "565  44e4772e-71c5-4d71-bcc9-6b502d1e4af4       2187.64  "
      ]
     },
     "execution_count": 23,
     "metadata": {},
     "output_type": "execute_result"
    }
   ],
   "source": [
    "df.get_hf_transactions(180)"
   ]
  },
  {
   "cell_type": "markdown",
   "id": "ea9faa6b-b2db-4bc3-bcdd-631d5fa375a7",
   "metadata": {},
   "source": [
    "### 4.3. Bonus: Change of the fund's turnover"
   ]
  },
  {
   "cell_type": "code",
   "execution_count": 24,
   "id": "5bbb4ac6-1b76-458c-8828-634e2797ce6b",
   "metadata": {},
   "outputs": [
    {
     "data": {
      "image/png": "[encoded data removed]",
      "text/plain": [
       "<Figure size 1500x600 with 1 Axes>"
      ]
     },
     "metadata": {},
     "output_type": "display_data"
    }
   ],
   "source": [
    "df.plot_fund_turnover('LU98163828108')"
   ]
  },
  {
   "cell_type": "markdown",
   "id": "fafd06a8-fcb5-4d3e-bcb2-9295e444b424",
   "metadata": {},
   "source": [
    "## 5. Suspicious Transactions (Advanced)"
   ]
  },
  {
   "cell_type": "markdown",
   "id": "34b86f1f-bb13-4f5c-8fec-1e1c2c88eefd",
   "metadata": {},
   "source": [
    "### 5.1. Rapid increase in account activity"
   ]
  },
  {
   "cell_type": "markdown",
   "id": "b275a1b2-e526-4c83-9b1c-d7714d0c0ce7",
   "metadata": {},
   "source": [
    "#### 5.1.1. Change of downtime (pattern)"
   ]
  },
  {
   "cell_type": "code",
   "execution_count": 25,
   "id": "97f9e59f-40f4-4d91-a45f-117328deae06",
   "metadata": {},
   "outputs": [
    {
     "data": {
      "image/png": "[encoded data removed]",
      "text/plain": [
       "<Figure size 1500x600 with 1 Axes>"
      ]
     },
     "metadata": {},
     "output_type": "display_data"
    }
   ],
   "source": [
    "df.plot_activity_increase(0.9)"
   ]
  },
  {
   "cell_type": "markdown",
   "id": "6ff34a88-4553-4b34-998c-2284ad6b194d",
   "metadata": {},
   "source": [
    "#### 5.1.2. Suspicious decrease of downtime (rapid increase in activity)"
   ]
  },
  {
   "cell_type": "code",
   "execution_count": 26,
   "id": "d66c148f-48bf-4435-abd0-9e5ea43ec234",
   "metadata": {},
   "outputs": [
    {
     "data": {
      "text/html": [
       "<div>\n",
       "<style scoped>\n",
       "    .dataframe tbody tr th:only-of-type {\n",
       "        vertical-align: middle;\n",
       "    }\n",
       "\n",
       "    .dataframe tbody tr th {\n",
       "        vertical-align: top;\n",
       "    }\n",
       "\n",
       "    .dataframe thead th {\n",
       "        text-align: right;\n",
       "    }\n",
       "</style>\n",
       "<table border=\"1\" class=\"dataframe\">\n",
       "  <thead>\n",
       "    <tr style=\"text-align: right;\">\n",
       "      <th></th>\n",
       "      <th>index</th>\n",
       "      <th>created_at</th>\n",
       "      <th>user_id</th>\n",
       "      <th>order_type</th>\n",
       "      <th>order_id</th>\n",
       "      <th>isin</th>\n",
       "      <th>quantity</th>\n",
       "      <th>unit_price</th>\n",
       "      <th>order_amount</th>\n",
       "      <th>date</th>\n",
       "      <th>time_diff</th>\n",
       "    </tr>\n",
       "  </thead>\n",
       "  <tbody>\n",
       "    <tr>\n",
       "      <th>85</th>\n",
       "      <td>2</td>\n",
       "      <td>2023-01-03 12:37:34</td>\n",
       "      <td>user|2vo2lu6gm28yawaihjf9qius</td>\n",
       "      <td>SELL</td>\n",
       "      <td>d2e27f40-f526-441e-8d6f-3ae2c68d21f9</td>\n",
       "      <td>LU86746320721</td>\n",
       "      <td>85</td>\n",
       "      <td>46.60</td>\n",
       "      <td>3961.00</td>\n",
       "      <td>2023-01-03</td>\n",
       "      <td>0.000000</td>\n",
       "    </tr>\n",
       "    <tr>\n",
       "      <th>86</th>\n",
       "      <td>3</td>\n",
       "      <td>2023-01-03 13:37:34</td>\n",
       "      <td>user|2vo2lu6gm28yawaihjf9qius</td>\n",
       "      <td>BUY</td>\n",
       "      <td>d2e27f40-f526-441e-8d6f-3ae2c68d01f9</td>\n",
       "      <td>LU86746320721</td>\n",
       "      <td>82</td>\n",
       "      <td>49.60</td>\n",
       "      <td>4067.20</td>\n",
       "      <td>2023-01-03</td>\n",
       "      <td>60.000000</td>\n",
       "    </tr>\n",
       "    <tr>\n",
       "      <th>339</th>\n",
       "      <td>598</td>\n",
       "      <td>2023-08-07 18:18:32</td>\n",
       "      <td>user|cw5oxh3duvvd3l8xw9z0hwlc</td>\n",
       "      <td>BUY</td>\n",
       "      <td>c7f21d58-426d-4f64-aea4-275a9fa8e7b3</td>\n",
       "      <td>LU66084718088</td>\n",
       "      <td>98</td>\n",
       "      <td>98.26</td>\n",
       "      <td>9629.48</td>\n",
       "      <td>2023-08-07</td>\n",
       "      <td>40676.033333</td>\n",
       "    </tr>\n",
       "    <tr>\n",
       "      <th>340</th>\n",
       "      <td>599</td>\n",
       "      <td>2023-08-07 22:00:30</td>\n",
       "      <td>user|cw5oxh3duvvd3l8xw9z0hwlc</td>\n",
       "      <td>BUY</td>\n",
       "      <td>a4aa1204-633a-43d3-a94f-b55f3c961dd9</td>\n",
       "      <td>LU90362253270</td>\n",
       "      <td>95</td>\n",
       "      <td>95.05</td>\n",
       "      <td>9029.75</td>\n",
       "      <td>2023-08-07</td>\n",
       "      <td>221.966667</td>\n",
       "    </tr>\n",
       "    <tr>\n",
       "      <th>563</th>\n",
       "      <td>772</td>\n",
       "      <td>2023-10-14 10:11:14</td>\n",
       "      <td>user|n4jjtiirlddz2b2lryq8lucl</td>\n",
       "      <td>BUY</td>\n",
       "      <td>1e35eb82-7c8e-43be-afdb-f7be388cff77</td>\n",
       "      <td>LU94275438033</td>\n",
       "      <td>46</td>\n",
       "      <td>26.36</td>\n",
       "      <td>1212.56</td>\n",
       "      <td>2023-10-14</td>\n",
       "      <td>17144.133333</td>\n",
       "    </tr>\n",
       "    <tr>\n",
       "      <th>564</th>\n",
       "      <td>773</td>\n",
       "      <td>2023-10-14 12:27:15</td>\n",
       "      <td>user|n4jjtiirlddz2b2lryq8lucl</td>\n",
       "      <td>BUY</td>\n",
       "      <td>d437f8e7-a4db-4e74-8a81-139bbea0bd18</td>\n",
       "      <td>LU50975575921</td>\n",
       "      <td>52</td>\n",
       "      <td>44.84</td>\n",
       "      <td>2331.68</td>\n",
       "      <td>2023-10-14</td>\n",
       "      <td>136.016667</td>\n",
       "    </tr>\n",
       "    <tr>\n",
       "      <th>564</th>\n",
       "      <td>773</td>\n",
       "      <td>2023-10-14 12:27:15</td>\n",
       "      <td>user|n4jjtiirlddz2b2lryq8lucl</td>\n",
       "      <td>BUY</td>\n",
       "      <td>d437f8e7-a4db-4e74-8a81-139bbea0bd18</td>\n",
       "      <td>LU50975575921</td>\n",
       "      <td>52</td>\n",
       "      <td>44.84</td>\n",
       "      <td>2331.68</td>\n",
       "      <td>2023-10-14</td>\n",
       "      <td>136.016667</td>\n",
       "    </tr>\n",
       "    <tr>\n",
       "      <th>565</th>\n",
       "      <td>786</td>\n",
       "      <td>2023-10-14 12:30:03</td>\n",
       "      <td>user|n4jjtiirlddz2b2lryq8lucl</td>\n",
       "      <td>BUY</td>\n",
       "      <td>44e4772e-71c5-4d71-bcc9-6b502d1e4af4</td>\n",
       "      <td>LU36110821488</td>\n",
       "      <td>26</td>\n",
       "      <td>84.14</td>\n",
       "      <td>2187.64</td>\n",
       "      <td>2023-10-14</td>\n",
       "      <td>2.800000</td>\n",
       "    </tr>\n",
       "    <tr>\n",
       "      <th>712</th>\n",
       "      <td>899</td>\n",
       "      <td>2023-11-30 10:57:35</td>\n",
       "      <td>user|t8symjfcadilby7qjb2xght6</td>\n",
       "      <td>BUY</td>\n",
       "      <td>34eec309-a4e4-43d4-85a1-dd359be8c7e5</td>\n",
       "      <td>LU12598964162</td>\n",
       "      <td>46</td>\n",
       "      <td>78.23</td>\n",
       "      <td>3598.58</td>\n",
       "      <td>2023-11-30</td>\n",
       "      <td>47678.966667</td>\n",
       "    </tr>\n",
       "    <tr>\n",
       "      <th>713</th>\n",
       "      <td>900</td>\n",
       "      <td>2023-11-30 14:35:38</td>\n",
       "      <td>user|t8symjfcadilby7qjb2xght6</td>\n",
       "      <td>BUY</td>\n",
       "      <td>0dd44e50-3752-4690-b95e-0ab98e01036d</td>\n",
       "      <td>LU19957116620</td>\n",
       "      <td>66</td>\n",
       "      <td>22.04</td>\n",
       "      <td>1454.64</td>\n",
       "      <td>2023-11-30</td>\n",
       "      <td>218.050000</td>\n",
       "    </tr>\n",
       "    <tr>\n",
       "      <th>715</th>\n",
       "      <td>969</td>\n",
       "      <td>2023-12-25 02:37:46</td>\n",
       "      <td>user|t8symjfcadilby7qjb2xght6</td>\n",
       "      <td>BUY</td>\n",
       "      <td>00a0202e-eb66-46b7-a1f6-ac9735187ef9</td>\n",
       "      <td>LU23143381495</td>\n",
       "      <td>23</td>\n",
       "      <td>82.67</td>\n",
       "      <td>1901.41</td>\n",
       "      <td>2023-12-25</td>\n",
       "      <td>19527.533333</td>\n",
       "    </tr>\n",
       "    <tr>\n",
       "      <th>716</th>\n",
       "      <td>971</td>\n",
       "      <td>2023-12-25 06:13:47</td>\n",
       "      <td>user|t8symjfcadilby7qjb2xght6</td>\n",
       "      <td>BUY</td>\n",
       "      <td>c845f7f3-5363-4e42-a7e0-717de8bf568c</td>\n",
       "      <td>LU77001828504</td>\n",
       "      <td>26</td>\n",
       "      <td>84.04</td>\n",
       "      <td>2185.04</td>\n",
       "      <td>2023-12-25</td>\n",
       "      <td>216.016667</td>\n",
       "    </tr>\n",
       "    <tr>\n",
       "      <th>908</th>\n",
       "      <td>44</td>\n",
       "      <td>2023-01-18 01:57:25</td>\n",
       "      <td>user|z5vqpdf31l1crdhbyifj86f9</td>\n",
       "      <td>BUY</td>\n",
       "      <td>e143e733-8908-4b71-b3e9-83e1a25c42d1</td>\n",
       "      <td>LU81158845960</td>\n",
       "      <td>80</td>\n",
       "      <td>38.08</td>\n",
       "      <td>3046.40</td>\n",
       "      <td>2023-01-18</td>\n",
       "      <td>1402.316667</td>\n",
       "    </tr>\n",
       "    <tr>\n",
       "      <th>909</th>\n",
       "      <td>45</td>\n",
       "      <td>2023-01-18 05:08:44</td>\n",
       "      <td>user|z5vqpdf31l1crdhbyifj86f9</td>\n",
       "      <td>SELL</td>\n",
       "      <td>8c34d3f6-0b2c-42c1-aa0b-d6996852cbcb</td>\n",
       "      <td>LU86475442729</td>\n",
       "      <td>25</td>\n",
       "      <td>75.15</td>\n",
       "      <td>1878.75</td>\n",
       "      <td>2023-01-18</td>\n",
       "      <td>191.316667</td>\n",
       "    </tr>\n",
       "    <tr>\n",
       "      <th>954</th>\n",
       "      <td>629</td>\n",
       "      <td>2023-08-22 19:20:34</td>\n",
       "      <td>user|z5vqpdf31l1crdhbyifj86f9</td>\n",
       "      <td>BUY</td>\n",
       "      <td>9070ef8b-e92b-4457-b833-6b09c508837a</td>\n",
       "      <td>LU63294864399</td>\n",
       "      <td>26</td>\n",
       "      <td>72.28</td>\n",
       "      <td>1879.28</td>\n",
       "      <td>2023-08-22</td>\n",
       "      <td>10928.650000</td>\n",
       "    </tr>\n",
       "    <tr>\n",
       "      <th>955</th>\n",
       "      <td>631</td>\n",
       "      <td>2023-08-22 22:50:29</td>\n",
       "      <td>user|z5vqpdf31l1crdhbyifj86f9</td>\n",
       "      <td>BUY</td>\n",
       "      <td>196ee1bd-c6a9-4b60-9b43-9362a023ec93</td>\n",
       "      <td>LU08694402776</td>\n",
       "      <td>72</td>\n",
       "      <td>59.03</td>\n",
       "      <td>4250.16</td>\n",
       "      <td>2023-08-22</td>\n",
       "      <td>209.916667</td>\n",
       "    </tr>\n",
       "    <tr>\n",
       "      <th>957</th>\n",
       "      <td>659</td>\n",
       "      <td>2023-09-01 09:16:10</td>\n",
       "      <td>user|z5vqpdf31l1crdhbyifj86f9</td>\n",
       "      <td>BUY</td>\n",
       "      <td>019ca015-964b-4e23-80f9-d543e431bbc1</td>\n",
       "      <td>LU08694402776</td>\n",
       "      <td>43</td>\n",
       "      <td>82.01</td>\n",
       "      <td>3526.43</td>\n",
       "      <td>2023-09-01</td>\n",
       "      <td>3926.683333</td>\n",
       "    </tr>\n",
       "    <tr>\n",
       "      <th>958</th>\n",
       "      <td>660</td>\n",
       "      <td>2023-09-01 12:33:15</td>\n",
       "      <td>user|z5vqpdf31l1crdhbyifj86f9</td>\n",
       "      <td>SELL</td>\n",
       "      <td>d04535cc-238b-4f44-b640-e9b6f0d9a98d</td>\n",
       "      <td>LU90362253270</td>\n",
       "      <td>78</td>\n",
       "      <td>91.07</td>\n",
       "      <td>7103.46</td>\n",
       "      <td>2023-09-01</td>\n",
       "      <td>197.083333</td>\n",
       "    </tr>\n",
       "  </tbody>\n",
       "</table>\n",
       "</div>"
      ],
      "text/plain": [
       "     index          created_at                        user_id order_type  \\\n",
       "85       2 2023-01-03 12:37:34  user|2vo2lu6gm28yawaihjf9qius       SELL   \n",
       "86       3 2023-01-03 13:37:34  user|2vo2lu6gm28yawaihjf9qius        BUY   \n",
       "339    598 2023-08-07 18:18:32  user|cw5oxh3duvvd3l8xw9z0hwlc        BUY   \n",
       "340    599 2023-08-07 22:00:30  user|cw5oxh3duvvd3l8xw9z0hwlc        BUY   \n",
       "563    772 2023-10-14 10:11:14  user|n4jjtiirlddz2b2lryq8lucl        BUY   \n",
       "564    773 2023-10-14 12:27:15  user|n4jjtiirlddz2b2lryq8lucl        BUY   \n",
       "564    773 2023-10-14 12:27:15  user|n4jjtiirlddz2b2lryq8lucl        BUY   \n",
       "565    786 2023-10-14 12:30:03  user|n4jjtiirlddz2b2lryq8lucl        BUY   \n",
       "712    899 2023-11-30 10:57:35  user|t8symjfcadilby7qjb2xght6        BUY   \n",
       "713    900 2023-11-30 14:35:38  user|t8symjfcadilby7qjb2xght6        BUY   \n",
       "715    969 2023-12-25 02:37:46  user|t8symjfcadilby7qjb2xght6        BUY   \n",
       "716    971 2023-12-25 06:13:47  user|t8symjfcadilby7qjb2xght6        BUY   \n",
       "908     44 2023-01-18 01:57:25  user|z5vqpdf31l1crdhbyifj86f9        BUY   \n",
       "909     45 2023-01-18 05:08:44  user|z5vqpdf31l1crdhbyifj86f9       SELL   \n",
       "954    629 2023-08-22 19:20:34  user|z5vqpdf31l1crdhbyifj86f9        BUY   \n",
       "955    631 2023-08-22 22:50:29  user|z5vqpdf31l1crdhbyifj86f9        BUY   \n",
       "957    659 2023-09-01 09:16:10  user|z5vqpdf31l1crdhbyifj86f9        BUY   \n",
       "958    660 2023-09-01 12:33:15  user|z5vqpdf31l1crdhbyifj86f9       SELL   \n",
       "\n",
       "                                 order_id           isin  quantity  \\\n",
       "85   d2e27f40-f526-441e-8d6f-3ae2c68d21f9  LU86746320721        85   \n",
       "86   d2e27f40-f526-441e-8d6f-3ae2c68d01f9  LU86746320721        82   \n",
       "339  c7f21d58-426d-4f64-aea4-275a9fa8e7b3  LU66084718088        98   \n",
       "340  a4aa1204-633a-43d3-a94f-b55f3c961dd9  LU90362253270        95   \n",
       "563  1e35eb82-7c8e-43be-afdb-f7be388cff77  LU94275438033        46   \n",
       "564  d437f8e7-a4db-4e74-8a81-139bbea0bd18  LU50975575921        52   \n",
       "564  d437f8e7-a4db-4e74-8a81-139bbea0bd18  LU50975575921        52   \n",
       "565  44e4772e-71c5-4d71-bcc9-6b502d1e4af4  LU36110821488        26   \n",
       "712  34eec309-a4e4-43d4-85a1-dd359be8c7e5  LU12598964162        46   \n",
       "713  0dd44e50-3752-4690-b95e-0ab98e01036d  LU19957116620        66   \n",
       "715  00a0202e-eb66-46b7-a1f6-ac9735187ef9  LU23143381495        23   \n",
       "716  c845f7f3-5363-4e42-a7e0-717de8bf568c  LU77001828504        26   \n",
       "908  e143e733-8908-4b71-b3e9-83e1a25c42d1  LU81158845960        80   \n",
       "909  8c34d3f6-0b2c-42c1-aa0b-d6996852cbcb  LU86475442729        25   \n",
       "954  9070ef8b-e92b-4457-b833-6b09c508837a  LU63294864399        26   \n",
       "955  196ee1bd-c6a9-4b60-9b43-9362a023ec93  LU08694402776        72   \n",
       "957  019ca015-964b-4e23-80f9-d543e431bbc1  LU08694402776        43   \n",
       "958  d04535cc-238b-4f44-b640-e9b6f0d9a98d  LU90362253270        78   \n",
       "\n",
       "     unit_price  order_amount        date     time_diff  \n",
       "85        46.60       3961.00  2023-01-03      0.000000  \n",
       "86        49.60       4067.20  2023-01-03     60.000000  \n",
       "339       98.26       9629.48  2023-08-07  40676.033333  \n",
       "340       95.05       9029.75  2023-08-07    221.966667  \n",
       "563       26.36       1212.56  2023-10-14  17144.133333  \n",
       "564       44.84       2331.68  2023-10-14    136.016667  \n",
       "564       44.84       2331.68  2023-10-14    136.016667  \n",
       "565       84.14       2187.64  2023-10-14      2.800000  \n",
       "712       78.23       3598.58  2023-11-30  47678.966667  \n",
       "713       22.04       1454.64  2023-11-30    218.050000  \n",
       "715       82.67       1901.41  2023-12-25  19527.533333  \n",
       "716       84.04       2185.04  2023-12-25    216.016667  \n",
       "908       38.08       3046.40  2023-01-18   1402.316667  \n",
       "909       75.15       1878.75  2023-01-18    191.316667  \n",
       "954       72.28       1879.28  2023-08-22  10928.650000  \n",
       "955       59.03       4250.16  2023-08-22    209.916667  \n",
       "957       82.01       3526.43  2023-09-01   3926.683333  \n",
       "958       91.07       7103.46  2023-09-01    197.083333  "
      ]
     },
     "execution_count": 26,
     "metadata": {},
     "output_type": "execute_result"
    }
   ],
   "source": [
    "df.activity_increase_susp(0.845)"
   ]
  },
  {
   "cell_type": "markdown",
   "id": "c1781ca3-2a62-4841-a197-b9e10b1e9e74",
   "metadata": {},
   "source": [
    "#### 5.1.3. How to choose deviation factor (width of the normal range for downtime)"
   ]
  },
  {
   "cell_type": "code",
   "execution_count": 27,
   "id": "a8047e55-1222-4da1-bf6c-20b3c05b76c3",
   "metadata": {},
   "outputs": [
    {
     "data": {
      "image/png": "[encoded data removed]",
      "text/plain": [
       "<Figure size 1500x600 with 1 Axes>"
      ]
     },
     "metadata": {},
     "output_type": "display_data"
    }
   ],
   "source": [
    "df.plot_dev_factor_act_increase()"
   ]
  },
  {
   "cell_type": "markdown",
   "id": "37bb5f12-1ba7-409d-b5c8-f38dde4aac87",
   "metadata": {},
   "source": [
    "### 5.2. Suspicious value of orders"
   ]
  },
  {
   "cell_type": "markdown",
   "id": "34202259-981b-4d3a-b45d-7584f34cef24",
   "metadata": {},
   "source": [
    "#### 5.2.1. Change of total value of orders (pattern)"
   ]
  },
  {
   "cell_type": "code",
   "execution_count": 28,
   "id": "ecfdf6ed-6b30-4e52-96eb-efe604d63e39",
   "metadata": {},
   "outputs": [
    {
     "data": {
      "image/png": "[encoded data removed]",
      "text/plain": [
       "<Figure size 1500x600 with 1 Axes>"
      ]
     },
     "metadata": {},
     "output_type": "display_data"
    }
   ],
   "source": [
    "df.plot_order_amount(1)"
   ]
  },
  {
   "cell_type": "markdown",
   "id": "137837ea-b538-4f79-837f-b468933506df",
   "metadata": {},
   "source": [
    "#### 5.2.2. Suspiciously high order amount"
   ]
  },
  {
   "cell_type": "code",
   "execution_count": 29,
   "id": "53ffb144-963e-44b7-beac-ebdc4f1fc0c9",
   "metadata": {},
   "outputs": [
    {
     "data": {
      "text/html": [
       "<div>\n",
       "<style scoped>\n",
       "    .dataframe tbody tr th:only-of-type {\n",
       "        vertical-align: middle;\n",
       "    }\n",
       "\n",
       "    .dataframe tbody tr th {\n",
       "        vertical-align: top;\n",
       "    }\n",
       "\n",
       "    .dataframe thead th {\n",
       "        text-align: right;\n",
       "    }\n",
       "</style>\n",
       "<table border=\"1\" class=\"dataframe\">\n",
       "  <thead>\n",
       "    <tr style=\"text-align: right;\">\n",
       "      <th></th>\n",
       "      <th>created_at</th>\n",
       "      <th>user_id</th>\n",
       "      <th>order_id</th>\n",
       "      <th>order_amount</th>\n",
       "    </tr>\n",
       "  </thead>\n",
       "  <tbody>\n",
       "    <tr>\n",
       "      <th>666</th>\n",
       "      <td>2023-09-04 03:41:44</td>\n",
       "      <td>user|omf8p6app6njuii2z0pdc0hk</td>\n",
       "      <td>f0108d9f-9088-43f4-bba3-dc779b2bcba0</td>\n",
       "      <td>9899.01</td>\n",
       "    </tr>\n",
       "  </tbody>\n",
       "</table>\n",
       "</div>"
      ],
      "text/plain": [
       "             created_at                        user_id  \\\n",
       "666 2023-09-04 03:41:44  user|omf8p6app6njuii2z0pdc0hk   \n",
       "\n",
       "                                 order_id  order_amount  \n",
       "666  f0108d9f-9088-43f4-bba3-dc779b2bcba0       9899.01  "
      ]
     },
     "execution_count": 29,
     "metadata": {},
     "output_type": "execute_result"
    }
   ],
   "source": [
    "df.order_amount_susp(3)"
   ]
  },
  {
   "cell_type": "markdown",
   "id": "0b70efe0-75ce-4a1d-a893-31b005c46074",
   "metadata": {},
   "source": [
    "#### 5.2.3. How to choose deviation factor (width of the normal range for order amount)"
   ]
  },
  {
   "cell_type": "code",
   "execution_count": 30,
   "id": "7a7d7a63-1b34-4c4a-973f-f6ec6d9455d0",
   "metadata": {},
   "outputs": [
    {
     "data": {
      "image/png": "[encoded data removed]",
      "text/plain": [
       "<Figure size 1500x600 with 1 Axes>"
      ]
     },
     "metadata": {},
     "output_type": "display_data"
    }
   ],
   "source": [
    "df.plot_dev_factor_order_amount()"
   ]
  },
  {
   "cell_type": "markdown",
   "id": "e72fc2fe-ad72-4caf-a98d-8ad72e5899a1",
   "metadata": {},
   "source": [
    "### 5.3. Bonus"
   ]
  },
  {
   "cell_type": "markdown",
   "id": "3a6bf55a-f5ac-40cd-a640-6dbbf3ab714a",
   "metadata": {},
   "source": [
    "#### 5.3.1. User's suspicious value of his orders"
   ]
  },
  {
   "cell_type": "markdown",
   "id": "e9bcabdd-d31b-46b7-b6b8-cc91a9c1d07b",
   "metadata": {},
   "source": [
    "##### 5.3.1.1. Order amount of the user with deviation range (pattern)"
   ]
  },
  {
   "cell_type": "code",
   "execution_count": 31,
   "id": "93b4e400-160b-4ca7-b586-a6822123f891",
   "metadata": {},
   "outputs": [
    {
     "data": {
      "image/png": "[encoded data removed]",
      "text/plain": [
       "<Figure size 1500x600 with 1 Axes>"
      ]
     },
     "metadata": {},
     "output_type": "display_data"
    }
   ],
   "source": [
    "df.plot_user_order_amount('user|n4jjtiirlddz2b2lryq8lucl',1)"
   ]
  },
  {
   "cell_type": "markdown",
   "id": "4528b90a-4f95-491c-b428-2f96d4951da8",
   "metadata": {},
   "source": [
    "##### 5.3.1.2. Suspicious order amount for the user"
   ]
  },
  {
   "cell_type": "code",
   "execution_count": 32,
   "id": "67a686e1-7933-4aca-bb3c-b392985fd121",
   "metadata": {},
   "outputs": [
    {
     "data": {
      "text/html": [
       "<div>\n",
       "<style scoped>\n",
       "    .dataframe tbody tr th:only-of-type {\n",
       "        vertical-align: middle;\n",
       "    }\n",
       "\n",
       "    .dataframe tbody tr th {\n",
       "        vertical-align: top;\n",
       "    }\n",
       "\n",
       "    .dataframe thead th {\n",
       "        text-align: right;\n",
       "    }\n",
       "</style>\n",
       "<table border=\"1\" class=\"dataframe\">\n",
       "  <thead>\n",
       "    <tr style=\"text-align: right;\">\n",
       "      <th></th>\n",
       "      <th>created_at</th>\n",
       "      <th>order_id</th>\n",
       "      <th>order_amount</th>\n",
       "    </tr>\n",
       "  </thead>\n",
       "  <tbody>\n",
       "    <tr>\n",
       "      <th>83</th>\n",
       "      <td>2023-01-29 01:14:43</td>\n",
       "      <td>c735b37b-f6ad-43f4-82c5-d92489661cf7</td>\n",
       "      <td>8026.08</td>\n",
       "    </tr>\n",
       "    <tr>\n",
       "      <th>528</th>\n",
       "      <td>2023-07-10 00:58:42</td>\n",
       "      <td>2ca7daaf-1e40-41fd-bdad-e73612d592c4</td>\n",
       "      <td>8050.11</td>\n",
       "    </tr>\n",
       "    <tr>\n",
       "      <th>561</th>\n",
       "      <td>2023-07-18 22:00:12</td>\n",
       "      <td>11eddf61-2823-49e2-b2d2-aed78af67dd8</td>\n",
       "      <td>7012.80</td>\n",
       "    </tr>\n",
       "    <tr>\n",
       "      <th>878</th>\n",
       "      <td>2023-11-22 03:06:11</td>\n",
       "      <td>31f4c184-7875-452f-81bf-0be36ab6b8be</td>\n",
       "      <td>6917.04</td>\n",
       "    </tr>\n",
       "  </tbody>\n",
       "</table>\n",
       "</div>"
      ],
      "text/plain": [
       "             created_at                              order_id  order_amount\n",
       "83  2023-01-29 01:14:43  c735b37b-f6ad-43f4-82c5-d92489661cf7       8026.08\n",
       "528 2023-07-10 00:58:42  2ca7daaf-1e40-41fd-bdad-e73612d592c4       8050.11\n",
       "561 2023-07-18 22:00:12  11eddf61-2823-49e2-b2d2-aed78af67dd8       7012.80\n",
       "878 2023-11-22 03:06:11  31f4c184-7875-452f-81bf-0be36ab6b8be       6917.04"
      ]
     },
     "execution_count": 32,
     "metadata": {},
     "output_type": "execute_result"
    }
   ],
   "source": [
    "df.user_order_amount_susp('user|n4jjtiirlddz2b2lryq8lucl',2)"
   ]
  },
  {
   "cell_type": "markdown",
   "id": "a43f715f-862f-47f7-8bbb-f323b06a6439",
   "metadata": {},
   "source": [
    "#### 5.3.2. Suspicious circular trading"
   ]
  },
  {
   "cell_type": "code",
   "execution_count": 33,
   "id": "c7b5e079-5e04-46ba-a9eb-bf6a85eaea7d",
   "metadata": {},
   "outputs": [
    {
     "data": {
      "text/html": [
       "<div>\n",
       "<style scoped>\n",
       "    .dataframe tbody tr th:only-of-type {\n",
       "        vertical-align: middle;\n",
       "    }\n",
       "\n",
       "    .dataframe tbody tr th {\n",
       "        vertical-align: top;\n",
       "    }\n",
       "\n",
       "    .dataframe thead th {\n",
       "        text-align: right;\n",
       "    }\n",
       "</style>\n",
       "<table border=\"1\" class=\"dataframe\">\n",
       "  <thead>\n",
       "    <tr style=\"text-align: right;\">\n",
       "      <th></th>\n",
       "      <th>user_id</th>\n",
       "      <th>isin</th>\n",
       "      <th>date</th>\n",
       "      <th>order_type</th>\n",
       "      <th>order_amount</th>\n",
       "    </tr>\n",
       "  </thead>\n",
       "  <tbody>\n",
       "    <tr>\n",
       "      <th>0</th>\n",
       "      <td>user|2vo2lu6gm28yawaihjf9qius</td>\n",
       "      <td>LU86746320721</td>\n",
       "      <td>2023-01-03</td>\n",
       "      <td>BUY</td>\n",
       "      <td>4067.2</td>\n",
       "    </tr>\n",
       "    <tr>\n",
       "      <th>1</th>\n",
       "      <td>user|2vo2lu6gm28yawaihjf9qius</td>\n",
       "      <td>LU86746320721</td>\n",
       "      <td>2023-01-03</td>\n",
       "      <td>SELL</td>\n",
       "      <td>3961.0</td>\n",
       "    </tr>\n",
       "  </tbody>\n",
       "</table>\n",
       "</div>"
      ],
      "text/plain": [
       "                         user_id           isin        date order_type  \\\n",
       "0  user|2vo2lu6gm28yawaihjf9qius  LU86746320721  2023-01-03        BUY   \n",
       "1  user|2vo2lu6gm28yawaihjf9qius  LU86746320721  2023-01-03       SELL   \n",
       "\n",
       "   order_amount  \n",
       "0        4067.2  \n",
       "1        3961.0  "
      ]
     },
     "execution_count": 33,
     "metadata": {},
     "output_type": "execute_result"
    }
   ],
   "source": [
    "df.susp_circ()"
   ]
  },
  {
   "cell_type": "markdown",
   "id": "d2ebe973-ac6e-496a-8ec1-7cf74f9f7eb2",
   "metadata": {},
   "source": [
    "#### 5.3.3. Frequency of transactions for one user"
   ]
  },
  {
   "cell_type": "code",
   "execution_count": 34,
   "id": "8c5cb02c-a596-4dd4-8433-e35e934d9b6c",
   "metadata": {},
   "outputs": [
    {
     "data": {
      "image/png": "[encoded data removed]",
      "text/plain": [
       "<Figure size 1500x600 with 1 Axes>"
      ]
     },
     "metadata": {},
     "output_type": "display_data"
    }
   ],
   "source": [
    "df.plot_activity_increase_user('user|57f4lb88pr59ukwzm8gpp2c5', 1)"
   ]
  },
  {
   "cell_type": "markdown",
   "id": "af87ad83-ef00-4fae-8b09-85fbc08eaf95",
   "metadata": {},
   "source": [
    "#### 5.3.4. For one user we could find his own dependence of suspicious increase in activity on deviation factor..."
   ]
  }
 ],
 "metadata": {
  "kernelspec": {
   "display_name": "Python 3 (ipykernel)",
   "language": "python",
   "name": "python3"
  },
  "language_info": {
   "codemirror_mode": {
    "name": "ipython",
    "version": 3
   },
   "file_extension": ".py",
   "mimetype": "text/x-python",
   "name": "python",
   "nbconvert_exporter": "python",
   "pygments_lexer": "ipython3",
   "version": "3.12.2"
  }
 },
 "nbformat": 4,
 "nbformat_minor": 5
}
